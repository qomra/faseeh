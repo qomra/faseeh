{
 "cells": [
  {
   "cell_type": "code",
   "execution_count": 1,
   "metadata": {},
   "outputs": [],
   "source": [
    "import json"
   ]
  },
  {
   "cell_type": "code",
   "execution_count": 2,
   "metadata": {},
   "outputs": [],
   "source": [
    "with open(\"root_analysis_dataset.json\") as f:\n",
    "    analysis = json.load(f)"
   ]
  },
  {
   "cell_type": "code",
   "execution_count": 3,
   "metadata": {},
   "outputs": [],
   "source": [
    "with open(\"memorization_dataset.json\") as f:\n",
    "    memorization = json.load(f)"
   ]
  },
  {
   "cell_type": "code",
   "execution_count": 4,
   "metadata": {},
   "outputs": [],
   "source": [
    "# get all roots\n",
    "roots = list(set([a[\"root\"] for a in memorization]))"
   ]
  },
  {
   "cell_type": "code",
   "execution_count": 34,
   "metadata": {},
   "outputs": [],
   "source": [
    "# sample 15 roots\n",
    "top_15_memorization = memorization[:200]"
   ]
  },
  {
   "cell_type": "code",
   "execution_count": 35,
   "metadata": {},
   "outputs": [],
   "source": [
    "top_15_analysis = []\n",
    "for i,t in enumerate(top_15_memorization):\n",
    "    found = False\n",
    "    for q in analysis:\n",
    "        if q[\"question\"] in t[\"input\"]:\n",
    "            top_15_analysis.append(q)\n",
    "            found = True\n",
    "            break\n",
    "    if not found:\n",
    "        print(i,\"not\")"
   ]
  },
  {
   "cell_type": "code",
   "execution_count": 36,
   "metadata": {},
   "outputs": [],
   "source": [
    "with open(\"root_analysis_dataset_short.json\",\"w\") as f:\n",
    "    f.write(json.dumps(top_15_analysis, ensure_ascii=False,indent=1))"
   ]
  },
  {
   "cell_type": "code",
   "execution_count": 37,
   "metadata": {},
   "outputs": [],
   "source": [
    "with open(\"memorization_dataset_short.json\",\"w\") as f:\n",
    "    f.write(json.dumps(top_15_memorization, ensure_ascii=False,indent=1))"
   ]
  },
  {
   "cell_type": "code",
   "execution_count": null,
   "metadata": {},
   "outputs": [],
   "source": []
  }
 ],
 "metadata": {
  "kernelspec": {
   "display_name": "oryx",
   "language": "python",
   "name": "python3"
  },
  "language_info": {
   "codemirror_mode": {
    "name": "ipython",
    "version": 3
   },
   "file_extension": ".py",
   "mimetype": "text/x-python",
   "name": "python",
   "nbconvert_exporter": "python",
   "pygments_lexer": "ipython3",
   "version": "3.9.16"
  }
 },
 "nbformat": 4,
 "nbformat_minor": 2
}
